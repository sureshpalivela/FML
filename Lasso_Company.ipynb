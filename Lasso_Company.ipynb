{
  "nbformat": 4,
  "nbformat_minor": 0,
  "metadata": {
    "colab": {
      "provenance": [],
      "mount_file_id": "1KF_vsqZZGIEa9sccBEvgZHcwv34L-DGI",
      "authorship_tag": "ABX9TyOvbqoJh3ATxZV/9/k97Icl",
      "include_colab_link": true
    },
    "kernelspec": {
      "name": "python3",
      "display_name": "Python 3"
    },
    "language_info": {
      "name": "python"
    }
  },
  "cells": [
    {
      "cell_type": "markdown",
      "metadata": {
        "id": "view-in-github",
        "colab_type": "text"
      },
      "source": [
        "<a href=\"https://colab.research.google.com/github/sureshpalivela/FML/blob/main/Lasso_Company.ipynb\" target=\"_parent\"><img src=\"https://colab.research.google.com/assets/colab-badge.svg\" alt=\"Open In Colab\"/></a>"
      ]
    },
    {
      "cell_type": "code",
      "execution_count": 1,
      "metadata": {
        "id": "krzsFQ90lskT"
      },
      "outputs": [],
      "source": [
        "import numpy as np\n",
        "import pandas as pd\n",
        "import matplotlib.pyplot as plt"
      ]
    },
    {
      "cell_type": "code",
      "source": [
        "from sklearn import linear_model\n",
        "from sklearn.linear_model import Lasso\n",
        "from sklearn.model_selection import train_test_split\n",
        "from sklearn.metrics import mean_absolute_error,r2_score,mean_squared_error"
      ],
      "metadata": {
        "id": "M2kxcmKVntFz"
      },
      "execution_count": 3,
      "outputs": []
    },
    {
      "cell_type": "code",
      "source": [
        "ds=pd.read_csv('/content/drive/MyDrive/Company_data.csv')\n",
        "ds"
      ],
      "metadata": {
        "colab": {
          "base_uri": "https://localhost:8080/",
          "height": 419
        },
        "id": "EU__LOjZoe1f",
        "outputId": "29861c1a-a9c5-4e6a-d136-c0631969d4f6"
      },
      "execution_count": 5,
      "outputs": [
        {
          "output_type": "execute_result",
          "data": {
            "text/plain": [
              "        TV  Radio  Newspaper  Sales\n",
              "0    230.1   37.8       69.2   22.1\n",
              "1     44.5   39.3       45.1   10.4\n",
              "2     17.2   45.9       69.3   12.0\n",
              "3    151.5   41.3       58.5   16.5\n",
              "4    180.8   10.8       58.4   17.9\n",
              "..     ...    ...        ...    ...\n",
              "195   38.2    3.7       13.8    7.6\n",
              "196   94.2    4.9        8.1   14.0\n",
              "197  177.0    9.3        6.4   14.8\n",
              "198  283.6   42.0       66.2   25.5\n",
              "199  232.1    8.6        8.7   18.4\n",
              "\n",
              "[200 rows x 4 columns]"
            ],
            "text/html": [
              "\n",
              "  <div id=\"df-18df4dd0-15a1-40d6-b57b-4228c39a6be6\">\n",
              "    <div class=\"colab-df-container\">\n",
              "      <div>\n",
              "<style scoped>\n",
              "    .dataframe tbody tr th:only-of-type {\n",
              "        vertical-align: middle;\n",
              "    }\n",
              "\n",
              "    .dataframe tbody tr th {\n",
              "        vertical-align: top;\n",
              "    }\n",
              "\n",
              "    .dataframe thead th {\n",
              "        text-align: right;\n",
              "    }\n",
              "</style>\n",
              "<table border=\"1\" class=\"dataframe\">\n",
              "  <thead>\n",
              "    <tr style=\"text-align: right;\">\n",
              "      <th></th>\n",
              "      <th>TV</th>\n",
              "      <th>Radio</th>\n",
              "      <th>Newspaper</th>\n",
              "      <th>Sales</th>\n",
              "    </tr>\n",
              "  </thead>\n",
              "  <tbody>\n",
              "    <tr>\n",
              "      <th>0</th>\n",
              "      <td>230.1</td>\n",
              "      <td>37.8</td>\n",
              "      <td>69.2</td>\n",
              "      <td>22.1</td>\n",
              "    </tr>\n",
              "    <tr>\n",
              "      <th>1</th>\n",
              "      <td>44.5</td>\n",
              "      <td>39.3</td>\n",
              "      <td>45.1</td>\n",
              "      <td>10.4</td>\n",
              "    </tr>\n",
              "    <tr>\n",
              "      <th>2</th>\n",
              "      <td>17.2</td>\n",
              "      <td>45.9</td>\n",
              "      <td>69.3</td>\n",
              "      <td>12.0</td>\n",
              "    </tr>\n",
              "    <tr>\n",
              "      <th>3</th>\n",
              "      <td>151.5</td>\n",
              "      <td>41.3</td>\n",
              "      <td>58.5</td>\n",
              "      <td>16.5</td>\n",
              "    </tr>\n",
              "    <tr>\n",
              "      <th>4</th>\n",
              "      <td>180.8</td>\n",
              "      <td>10.8</td>\n",
              "      <td>58.4</td>\n",
              "      <td>17.9</td>\n",
              "    </tr>\n",
              "    <tr>\n",
              "      <th>...</th>\n",
              "      <td>...</td>\n",
              "      <td>...</td>\n",
              "      <td>...</td>\n",
              "      <td>...</td>\n",
              "    </tr>\n",
              "    <tr>\n",
              "      <th>195</th>\n",
              "      <td>38.2</td>\n",
              "      <td>3.7</td>\n",
              "      <td>13.8</td>\n",
              "      <td>7.6</td>\n",
              "    </tr>\n",
              "    <tr>\n",
              "      <th>196</th>\n",
              "      <td>94.2</td>\n",
              "      <td>4.9</td>\n",
              "      <td>8.1</td>\n",
              "      <td>14.0</td>\n",
              "    </tr>\n",
              "    <tr>\n",
              "      <th>197</th>\n",
              "      <td>177.0</td>\n",
              "      <td>9.3</td>\n",
              "      <td>6.4</td>\n",
              "      <td>14.8</td>\n",
              "    </tr>\n",
              "    <tr>\n",
              "      <th>198</th>\n",
              "      <td>283.6</td>\n",
              "      <td>42.0</td>\n",
              "      <td>66.2</td>\n",
              "      <td>25.5</td>\n",
              "    </tr>\n",
              "    <tr>\n",
              "      <th>199</th>\n",
              "      <td>232.1</td>\n",
              "      <td>8.6</td>\n",
              "      <td>8.7</td>\n",
              "      <td>18.4</td>\n",
              "    </tr>\n",
              "  </tbody>\n",
              "</table>\n",
              "<p>200 rows × 4 columns</p>\n",
              "</div>\n",
              "      <button class=\"colab-df-convert\" onclick=\"convertToInteractive('df-18df4dd0-15a1-40d6-b57b-4228c39a6be6')\"\n",
              "              title=\"Convert this dataframe to an interactive table.\"\n",
              "              style=\"display:none;\">\n",
              "        \n",
              "  <svg xmlns=\"http://www.w3.org/2000/svg\" height=\"24px\"viewBox=\"0 0 24 24\"\n",
              "       width=\"24px\">\n",
              "    <path d=\"M0 0h24v24H0V0z\" fill=\"none\"/>\n",
              "    <path d=\"M18.56 5.44l.94 2.06.94-2.06 2.06-.94-2.06-.94-.94-2.06-.94 2.06-2.06.94zm-11 1L8.5 8.5l.94-2.06 2.06-.94-2.06-.94L8.5 2.5l-.94 2.06-2.06.94zm10 10l.94 2.06.94-2.06 2.06-.94-2.06-.94-.94-2.06-.94 2.06-2.06.94z\"/><path d=\"M17.41 7.96l-1.37-1.37c-.4-.4-.92-.59-1.43-.59-.52 0-1.04.2-1.43.59L10.3 9.45l-7.72 7.72c-.78.78-.78 2.05 0 2.83L4 21.41c.39.39.9.59 1.41.59.51 0 1.02-.2 1.41-.59l7.78-7.78 2.81-2.81c.8-.78.8-2.07 0-2.86zM5.41 20L4 18.59l7.72-7.72 1.47 1.35L5.41 20z\"/>\n",
              "  </svg>\n",
              "      </button>\n",
              "      \n",
              "  <style>\n",
              "    .colab-df-container {\n",
              "      display:flex;\n",
              "      flex-wrap:wrap;\n",
              "      gap: 12px;\n",
              "    }\n",
              "\n",
              "    .colab-df-convert {\n",
              "      background-color: #E8F0FE;\n",
              "      border: none;\n",
              "      border-radius: 50%;\n",
              "      cursor: pointer;\n",
              "      display: none;\n",
              "      fill: #1967D2;\n",
              "      height: 32px;\n",
              "      padding: 0 0 0 0;\n",
              "      width: 32px;\n",
              "    }\n",
              "\n",
              "    .colab-df-convert:hover {\n",
              "      background-color: #E2EBFA;\n",
              "      box-shadow: 0px 1px 2px rgba(60, 64, 67, 0.3), 0px 1px 3px 1px rgba(60, 64, 67, 0.15);\n",
              "      fill: #174EA6;\n",
              "    }\n",
              "\n",
              "    [theme=dark] .colab-df-convert {\n",
              "      background-color: #3B4455;\n",
              "      fill: #D2E3FC;\n",
              "    }\n",
              "\n",
              "    [theme=dark] .colab-df-convert:hover {\n",
              "      background-color: #434B5C;\n",
              "      box-shadow: 0px 1px 3px 1px rgba(0, 0, 0, 0.15);\n",
              "      filter: drop-shadow(0px 1px 2px rgba(0, 0, 0, 0.3));\n",
              "      fill: #FFFFFF;\n",
              "    }\n",
              "  </style>\n",
              "\n",
              "      <script>\n",
              "        const buttonEl =\n",
              "          document.querySelector('#df-18df4dd0-15a1-40d6-b57b-4228c39a6be6 button.colab-df-convert');\n",
              "        buttonEl.style.display =\n",
              "          google.colab.kernel.accessAllowed ? 'block' : 'none';\n",
              "\n",
              "        async function convertToInteractive(key) {\n",
              "          const element = document.querySelector('#df-18df4dd0-15a1-40d6-b57b-4228c39a6be6');\n",
              "          const dataTable =\n",
              "            await google.colab.kernel.invokeFunction('convertToInteractive',\n",
              "                                                     [key], {});\n",
              "          if (!dataTable) return;\n",
              "\n",
              "          const docLinkHtml = 'Like what you see? Visit the ' +\n",
              "            '<a target=\"_blank\" href=https://colab.research.google.com/notebooks/data_table.ipynb>data table notebook</a>'\n",
              "            + ' to learn more about interactive tables.';\n",
              "          element.innerHTML = '';\n",
              "          dataTable['output_type'] = 'display_data';\n",
              "          await google.colab.output.renderOutput(dataTable, element);\n",
              "          const docLink = document.createElement('div');\n",
              "          docLink.innerHTML = docLinkHtml;\n",
              "          element.appendChild(docLink);\n",
              "        }\n",
              "      </script>\n",
              "    </div>\n",
              "  </div>\n",
              "  "
            ]
          },
          "metadata": {},
          "execution_count": 5
        }
      ]
    },
    {
      "cell_type": "code",
      "source": [
        "x=ds.drop('Sales',axis=1).values\n",
        "y=ds['Sales'].values"
      ],
      "metadata": {
        "id": "CW9Xi7ywovcR"
      },
      "execution_count": 6,
      "outputs": []
    },
    {
      "cell_type": "code",
      "source": [
        "x"
      ],
      "metadata": {
        "colab": {
          "base_uri": "https://localhost:8080/"
        },
        "id": "fQIXnjWnp1vl",
        "outputId": "0307c2b3-8787-47f9-ff7f-0f187319366f"
      },
      "execution_count": 7,
      "outputs": [
        {
          "output_type": "execute_result",
          "data": {
            "text/plain": [
              "array([[230.1,  37.8,  69.2],\n",
              "       [ 44.5,  39.3,  45.1],\n",
              "       [ 17.2,  45.9,  69.3],\n",
              "       [151.5,  41.3,  58.5],\n",
              "       [180.8,  10.8,  58.4],\n",
              "       [  8.7,  48.9,  75. ],\n",
              "       [ 57.5,  32.8,  23.5],\n",
              "       [120.2,  19.6,  11.6],\n",
              "       [  8.6,   2.1,   1. ],\n",
              "       [199.8,   2.6,  21.2],\n",
              "       [ 66.1,   5.8,  24.2],\n",
              "       [214.7,  24. ,   4. ],\n",
              "       [ 23.8,  35.1,  65.9],\n",
              "       [ 97.5,   7.6,   7.2],\n",
              "       [204.1,  32.9,  46. ],\n",
              "       [195.4,  47.7,  52.9],\n",
              "       [ 67.8,  36.6, 114. ],\n",
              "       [281.4,  39.6,  55.8],\n",
              "       [ 69.2,  20.5,  18.3],\n",
              "       [147.3,  23.9,  19.1],\n",
              "       [218.4,  27.7,  53.4],\n",
              "       [237.4,   5.1,  23.5],\n",
              "       [ 13.2,  15.9,  49.6],\n",
              "       [228.3,  16.9,  26.2],\n",
              "       [ 62.3,  12.6,  18.3],\n",
              "       [262.9,   3.5,  19.5],\n",
              "       [142.9,  29.3,  12.6],\n",
              "       [240.1,  16.7,  22.9],\n",
              "       [248.8,  27.1,  22.9],\n",
              "       [ 70.6,  16. ,  40.8],\n",
              "       [292.9,  28.3,  43.2],\n",
              "       [112.9,  17.4,  38.6],\n",
              "       [ 97.2,   1.5,  30. ],\n",
              "       [265.6,  20. ,   0.3],\n",
              "       [ 95.7,   1.4,   7.4],\n",
              "       [290.7,   4.1,   8.5],\n",
              "       [266.9,  43.8,   5. ],\n",
              "       [ 74.7,  49.4,  45.7],\n",
              "       [ 43.1,  26.7,  35.1],\n",
              "       [228. ,  37.7,  32. ],\n",
              "       [202.5,  22.3,  31.6],\n",
              "       [177. ,  33.4,  38.7],\n",
              "       [293.6,  27.7,   1.8],\n",
              "       [206.9,   8.4,  26.4],\n",
              "       [ 25.1,  25.7,  43.3],\n",
              "       [175.1,  22.5,  31.5],\n",
              "       [ 89.7,   9.9,  35.7],\n",
              "       [239.9,  41.5,  18.5],\n",
              "       [227.2,  15.8,  49.9],\n",
              "       [ 66.9,  11.7,  36.8],\n",
              "       [199.8,   3.1,  34.6],\n",
              "       [100.4,   9.6,   3.6],\n",
              "       [216.4,  41.7,  39.6],\n",
              "       [182.6,  46.2,  58.7],\n",
              "       [262.7,  28.8,  15.9],\n",
              "       [198.9,  49.4,  60. ],\n",
              "       [  7.3,  28.1,  41.4],\n",
              "       [136.2,  19.2,  16.6],\n",
              "       [210.8,  49.6,  37.7],\n",
              "       [210.7,  29.5,   9.3],\n",
              "       [ 53.5,   2. ,  21.4],\n",
              "       [261.3,  42.7,  54.7],\n",
              "       [239.3,  15.5,  27.3],\n",
              "       [102.7,  29.6,   8.4],\n",
              "       [131.1,  42.8,  28.9],\n",
              "       [ 69. ,   9.3,   0.9],\n",
              "       [ 31.5,  24.6,   2.2],\n",
              "       [139.3,  14.5,  10.2],\n",
              "       [237.4,  27.5,  11. ],\n",
              "       [216.8,  43.9,  27.2],\n",
              "       [199.1,  30.6,  38.7],\n",
              "       [109.8,  14.3,  31.7],\n",
              "       [ 26.8,  33. ,  19.3],\n",
              "       [129.4,   5.7,  31.3],\n",
              "       [213.4,  24.6,  13.1],\n",
              "       [ 16.9,  43.7,  89.4],\n",
              "       [ 27.5,   1.6,  20.7],\n",
              "       [120.5,  28.5,  14.2],\n",
              "       [  5.4,  29.9,   9.4],\n",
              "       [116. ,   7.7,  23.1],\n",
              "       [ 76.4,  26.7,  22.3],\n",
              "       [239.8,   4.1,  36.9],\n",
              "       [ 75.3,  20.3,  32.5],\n",
              "       [ 68.4,  44.5,  35.6],\n",
              "       [213.5,  43. ,  33.8],\n",
              "       [193.2,  18.4,  65.7],\n",
              "       [ 76.3,  27.5,  16. ],\n",
              "       [110.7,  40.6,  63.2],\n",
              "       [ 88.3,  25.5,  73.4],\n",
              "       [109.8,  47.8,  51.4],\n",
              "       [134.3,   4.9,   9.3],\n",
              "       [ 28.6,   1.5,  33. ],\n",
              "       [217.7,  33.5,  59. ],\n",
              "       [250.9,  36.5,  72.3],\n",
              "       [107.4,  14. ,  10.9],\n",
              "       [163.3,  31.6,  52.9],\n",
              "       [197.6,   3.5,   5.9],\n",
              "       [184.9,  21. ,  22. ],\n",
              "       [289.7,  42.3,  51.2],\n",
              "       [135.2,  41.7,  45.9],\n",
              "       [222.4,   4.3,  49.8],\n",
              "       [296.4,  36.3, 100.9],\n",
              "       [280.2,  10.1,  21.4],\n",
              "       [187.9,  17.2,  17.9],\n",
              "       [238.2,  34.3,   5.3],\n",
              "       [137.9,  46.4,  59. ],\n",
              "       [ 25. ,  11. ,  29.7],\n",
              "       [ 90.4,   0.3,  23.2],\n",
              "       [ 13.1,   0.4,  25.6],\n",
              "       [255.4,  26.9,   5.5],\n",
              "       [225.8,   8.2,  56.5],\n",
              "       [241.7,  38. ,  23.2],\n",
              "       [175.7,  15.4,   2.4],\n",
              "       [209.6,  20.6,  10.7],\n",
              "       [ 78.2,  46.8,  34.5],\n",
              "       [ 75.1,  35. ,  52.7],\n",
              "       [139.2,  14.3,  25.6],\n",
              "       [ 76.4,   0.8,  14.8],\n",
              "       [125.7,  36.9,  79.2],\n",
              "       [ 19.4,  16. ,  22.3],\n",
              "       [141.3,  26.8,  46.2],\n",
              "       [ 18.8,  21.7,  50.4],\n",
              "       [224. ,   2.4,  15.6],\n",
              "       [123.1,  34.6,  12.4],\n",
              "       [229.5,  32.3,  74.2],\n",
              "       [ 87.2,  11.8,  25.9],\n",
              "       [  7.8,  38.9,  50.6],\n",
              "       [ 80.2,   0. ,   9.2],\n",
              "       [220.3,  49. ,   3.2],\n",
              "       [ 59.6,  12. ,  43.1],\n",
              "       [  0.7,  39.6,   8.7],\n",
              "       [265.2,   2.9,  43. ],\n",
              "       [  8.4,  27.2,   2.1],\n",
              "       [219.8,  33.5,  45.1],\n",
              "       [ 36.9,  38.6,  65.6],\n",
              "       [ 48.3,  47. ,   8.5],\n",
              "       [ 25.6,  39. ,   9.3],\n",
              "       [273.7,  28.9,  59.7],\n",
              "       [ 43. ,  25.9,  20.5],\n",
              "       [184.9,  43.9,   1.7],\n",
              "       [ 73.4,  17. ,  12.9],\n",
              "       [193.7,  35.4,  75.6],\n",
              "       [220.5,  33.2,  37.9],\n",
              "       [104.6,   5.7,  34.4],\n",
              "       [ 96.2,  14.8,  38.9],\n",
              "       [140.3,   1.9,   9. ],\n",
              "       [240.1,   7.3,   8.7],\n",
              "       [243.2,  49. ,  44.3],\n",
              "       [ 38. ,  40.3,  11.9],\n",
              "       [ 44.7,  25.8,  20.6],\n",
              "       [280.7,  13.9,  37. ],\n",
              "       [121. ,   8.4,  48.7],\n",
              "       [197.6,  23.3,  14.2],\n",
              "       [171.3,  39.7,  37.7],\n",
              "       [187.8,  21.1,   9.5],\n",
              "       [  4.1,  11.6,   5.7],\n",
              "       [ 93.9,  43.5,  50.5],\n",
              "       [149.8,   1.3,  24.3],\n",
              "       [ 11.7,  36.9,  45.2],\n",
              "       [131.7,  18.4,  34.6],\n",
              "       [172.5,  18.1,  30.7],\n",
              "       [ 85.7,  35.8,  49.3],\n",
              "       [188.4,  18.1,  25.6],\n",
              "       [163.5,  36.8,   7.4],\n",
              "       [117.2,  14.7,   5.4],\n",
              "       [234.5,   3.4,  84.8],\n",
              "       [ 17.9,  37.6,  21.6],\n",
              "       [206.8,   5.2,  19.4],\n",
              "       [215.4,  23.6,  57.6],\n",
              "       [284.3,  10.6,   6.4],\n",
              "       [ 50. ,  11.6,  18.4],\n",
              "       [164.5,  20.9,  47.4],\n",
              "       [ 19.6,  20.1,  17. ],\n",
              "       [168.4,   7.1,  12.8],\n",
              "       [222.4,   3.4,  13.1],\n",
              "       [276.9,  48.9,  41.8],\n",
              "       [248.4,  30.2,  20.3],\n",
              "       [170.2,   7.8,  35.2],\n",
              "       [276.7,   2.3,  23.7],\n",
              "       [165.6,  10. ,  17.6],\n",
              "       [156.6,   2.6,   8.3],\n",
              "       [218.5,   5.4,  27.4],\n",
              "       [ 56.2,   5.7,  29.7],\n",
              "       [287.6,  43. ,  71.8],\n",
              "       [253.8,  21.3,  30. ],\n",
              "       [205. ,  45.1,  19.6],\n",
              "       [139.5,   2.1,  26.6],\n",
              "       [191.1,  28.7,  18.2],\n",
              "       [286. ,  13.9,   3.7],\n",
              "       [ 18.7,  12.1,  23.4],\n",
              "       [ 39.5,  41.1,   5.8],\n",
              "       [ 75.5,  10.8,   6. ],\n",
              "       [ 17.2,   4.1,  31.6],\n",
              "       [166.8,  42. ,   3.6],\n",
              "       [149.7,  35.6,   6. ],\n",
              "       [ 38.2,   3.7,  13.8],\n",
              "       [ 94.2,   4.9,   8.1],\n",
              "       [177. ,   9.3,   6.4],\n",
              "       [283.6,  42. ,  66.2],\n",
              "       [232.1,   8.6,   8.7]])"
            ]
          },
          "metadata": {},
          "execution_count": 7
        }
      ]
    },
    {
      "cell_type": "code",
      "source": [
        "x_train,x_test,y_train,y_test=train_test_split(x,y,test_size=0.25,random_state=42)"
      ],
      "metadata": {
        "id": "qViHbsjFp5h-"
      },
      "execution_count": 8,
      "outputs": []
    },
    {
      "cell_type": "code",
      "source": [
        "x_train.shape,x_test.shape"
      ],
      "metadata": {
        "colab": {
          "base_uri": "https://localhost:8080/"
        },
        "id": "orvqR3Ynqigm",
        "outputId": "6cf8d15e-571e-43b5-c763-6810557200f7"
      },
      "execution_count": 10,
      "outputs": [
        {
          "output_type": "execute_result",
          "data": {
            "text/plain": [
              "((150, 3), (50, 3))"
            ]
          },
          "metadata": {},
          "execution_count": 10
        }
      ]
    },
    {
      "cell_type": "code",
      "source": [
        "reg=Lasso(alpha=0.1)\n",
        "reg.fit(x_train,y_train)"
      ],
      "metadata": {
        "colab": {
          "base_uri": "https://localhost:8080/",
          "height": 74
        },
        "id": "kXo7-YDFrCLh",
        "outputId": "c4e309cb-dd1c-4faf-e204-0338182c32ef"
      },
      "execution_count": 12,
      "outputs": [
        {
          "output_type": "execute_result",
          "data": {
            "text/plain": [
              "Lasso(alpha=0.1)"
            ],
            "text/html": [
              "<style>#sk-container-id-1 {color: black;background-color: white;}#sk-container-id-1 pre{padding: 0;}#sk-container-id-1 div.sk-toggleable {background-color: white;}#sk-container-id-1 label.sk-toggleable__label {cursor: pointer;display: block;width: 100%;margin-bottom: 0;padding: 0.3em;box-sizing: border-box;text-align: center;}#sk-container-id-1 label.sk-toggleable__label-arrow:before {content: \"▸\";float: left;margin-right: 0.25em;color: #696969;}#sk-container-id-1 label.sk-toggleable__label-arrow:hover:before {color: black;}#sk-container-id-1 div.sk-estimator:hover label.sk-toggleable__label-arrow:before {color: black;}#sk-container-id-1 div.sk-toggleable__content {max-height: 0;max-width: 0;overflow: hidden;text-align: left;background-color: #f0f8ff;}#sk-container-id-1 div.sk-toggleable__content pre {margin: 0.2em;color: black;border-radius: 0.25em;background-color: #f0f8ff;}#sk-container-id-1 input.sk-toggleable__control:checked~div.sk-toggleable__content {max-height: 200px;max-width: 100%;overflow: auto;}#sk-container-id-1 input.sk-toggleable__control:checked~label.sk-toggleable__label-arrow:before {content: \"▾\";}#sk-container-id-1 div.sk-estimator input.sk-toggleable__control:checked~label.sk-toggleable__label {background-color: #d4ebff;}#sk-container-id-1 div.sk-label input.sk-toggleable__control:checked~label.sk-toggleable__label {background-color: #d4ebff;}#sk-container-id-1 input.sk-hidden--visually {border: 0;clip: rect(1px 1px 1px 1px);clip: rect(1px, 1px, 1px, 1px);height: 1px;margin: -1px;overflow: hidden;padding: 0;position: absolute;width: 1px;}#sk-container-id-1 div.sk-estimator {font-family: monospace;background-color: #f0f8ff;border: 1px dotted black;border-radius: 0.25em;box-sizing: border-box;margin-bottom: 0.5em;}#sk-container-id-1 div.sk-estimator:hover {background-color: #d4ebff;}#sk-container-id-1 div.sk-parallel-item::after {content: \"\";width: 100%;border-bottom: 1px solid gray;flex-grow: 1;}#sk-container-id-1 div.sk-label:hover label.sk-toggleable__label {background-color: #d4ebff;}#sk-container-id-1 div.sk-serial::before {content: \"\";position: absolute;border-left: 1px solid gray;box-sizing: border-box;top: 0;bottom: 0;left: 50%;z-index: 0;}#sk-container-id-1 div.sk-serial {display: flex;flex-direction: column;align-items: center;background-color: white;padding-right: 0.2em;padding-left: 0.2em;position: relative;}#sk-container-id-1 div.sk-item {position: relative;z-index: 1;}#sk-container-id-1 div.sk-parallel {display: flex;align-items: stretch;justify-content: center;background-color: white;position: relative;}#sk-container-id-1 div.sk-item::before, #sk-container-id-1 div.sk-parallel-item::before {content: \"\";position: absolute;border-left: 1px solid gray;box-sizing: border-box;top: 0;bottom: 0;left: 50%;z-index: -1;}#sk-container-id-1 div.sk-parallel-item {display: flex;flex-direction: column;z-index: 1;position: relative;background-color: white;}#sk-container-id-1 div.sk-parallel-item:first-child::after {align-self: flex-end;width: 50%;}#sk-container-id-1 div.sk-parallel-item:last-child::after {align-self: flex-start;width: 50%;}#sk-container-id-1 div.sk-parallel-item:only-child::after {width: 0;}#sk-container-id-1 div.sk-dashed-wrapped {border: 1px dashed gray;margin: 0 0.4em 0.5em 0.4em;box-sizing: border-box;padding-bottom: 0.4em;background-color: white;}#sk-container-id-1 div.sk-label label {font-family: monospace;font-weight: bold;display: inline-block;line-height: 1.2em;}#sk-container-id-1 div.sk-label-container {text-align: center;}#sk-container-id-1 div.sk-container {/* jupyter's `normalize.less` sets `[hidden] { display: none; }` but bootstrap.min.css set `[hidden] { display: none !important; }` so we also need the `!important` here to be able to override the default hidden behavior on the sphinx rendered scikit-learn.org. See: https://github.com/scikit-learn/scikit-learn/issues/21755 */display: inline-block !important;position: relative;}#sk-container-id-1 div.sk-text-repr-fallback {display: none;}</style><div id=\"sk-container-id-1\" class=\"sk-top-container\"><div class=\"sk-text-repr-fallback\"><pre>Lasso(alpha=0.1)</pre><b>In a Jupyter environment, please rerun this cell to show the HTML representation or trust the notebook. <br />On GitHub, the HTML representation is unable to render, please try loading this page with nbviewer.org.</b></div><div class=\"sk-container\" hidden><div class=\"sk-item\"><div class=\"sk-estimator sk-toggleable\"><input class=\"sk-toggleable__control sk-hidden--visually\" id=\"sk-estimator-id-1\" type=\"checkbox\" checked><label for=\"sk-estimator-id-1\" class=\"sk-toggleable__label sk-toggleable__label-arrow\">Lasso</label><div class=\"sk-toggleable__content\"><pre>Lasso(alpha=0.1)</pre></div></div></div></div></div>"
            ]
          },
          "metadata": {},
          "execution_count": 12
        }
      ]
    },
    {
      "cell_type": "markdown",
      "source": [
        "trianing machine on train data"
      ],
      "metadata": {
        "id": "q2yH9NDotN_t"
      }
    },
    {
      "cell_type": "code",
      "source": [
        "from sklearn.metrics  import mean_absolute_error,r2_score,mean_squared_error\n",
        "y_pred1 =reg.predict(x_train)\n",
        "print(f'MAE ={mean_absolute_error(y_train,y_pred1)}')\n",
        "print(f'MAE ={mean_squared_error(y_train,y_pred1)}')\n",
        "print(f'MAE ={np.sqrt(mean_squared_error(y_train,y_pred1))}')\n",
        "print(f'MAE ={r2_score(y_train,y_pred1)}')"
      ],
      "metadata": {
        "colab": {
          "base_uri": "https://localhost:8080/"
        },
        "id": "THNmdZ31rU-w",
        "outputId": "841dbb00-9ae5-4e14-d61b-720aa8da83b1"
      },
      "execution_count": 13,
      "outputs": [
        {
          "output_type": "stream",
          "name": "stdout",
          "text": [
            "MAE =1.2876536180415137\n",
            "MAE =2.835300199761751\n",
            "MAE =1.6838349680897327\n",
            "MAE =0.8957740741508459\n"
          ]
        }
      ]
    },
    {
      "cell_type": "markdown",
      "source": [
        "training machine on test data"
      ],
      "metadata": {
        "id": "TeeNZJYNtgDF"
      }
    },
    {
      "cell_type": "code",
      "source": [
        "y_pred2 =reg.predict(x_test)\n",
        "print(f'MAE ={mean_absolute_error(y_test,y_pred2)}')\n",
        "print(f'MSE ={mean_squared_error(y_test,y_pred2)}')\n",
        "print(f'RMSE ={np.sqrt(mean_squared_error(y_test,y_pred2))}')\n",
        "print(f'R2_score ={r2_score(y_test,y_pred2)}')"
      ],
      "metadata": {
        "colab": {
          "base_uri": "https://localhost:8080/"
        },
        "id": "O8tC7qYvs8jk",
        "outputId": "e96f583a-c566-4691-8f70-87187da9088e"
      },
      "execution_count": 19,
      "outputs": [
        {
          "output_type": "stream",
          "name": "stdout",
          "text": [
            "MAE =1.1199317132206692\n",
            "MSE =2.4064594583927716\n",
            "RMSE =1.5512767188328367\n",
            "R2_score =0.911476780577433\n"
          ]
        }
      ]
    },
    {
      "cell_type": "markdown",
      "source": [
        "the R2_score values is nearly 1, so it is predicted good"
      ],
      "metadata": {
        "id": "quNJNQA1tv8O"
      }
    }
  ]
}